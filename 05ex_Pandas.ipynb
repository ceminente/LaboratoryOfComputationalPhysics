{
 "cells": [
  {
   "cell_type": "markdown",
   "metadata": {},
   "source": [
    "## Pandas analysis\n",
    "\n",
    "In the following a series of exercises is proposed on a dataset containg timing information from a series of Time-to-Digital-Converters (TDC) implemented in a couple of FPGA's. Each measurement (i.e. each raw) consists of the address of the TDC providing the signal, 'FPGA' and 'TDC_Channel, and the timing information itself, 'ORBIT_CNT', 'BX_COUNTER' and 'TDC_MEAS'. Each TDC count correspond 25/30 ns, whereas the BX_COUNTER feauters gets updated every 25 ns and the ORBIT_CNT every 'x' BX_COUNTER. You can see these way of storing the time as similar to hours, minutes and seconds.\n",
    "\n",
    "1\\. Create a Pandas DataFrame by read N raws of the 'data_000637.txt' dataset. Choose N to be smaller than or equal to the maximum number of raws and larger that 10k.\n",
    "\n",
    "2\\. Find out the value of 'x'\n",
    "\n",
    "3\\. Find out how much the data taking lasted. You can either make an estimate on the baseis of the fraction of the measurements (raws) you read, or perform this check precisely by reading out the whole dataset\n",
    "\n",
    "4\\. Create a new column with the actual time in ns (as a combination of the other three columns with timing information)\n",
    "\n",
    "5\\. Replace the values (all 1) of the HEAD column randomly with 0 or 1\n",
    "\n",
    "6\\. Create a new DataFrame with only the raws with HEAD=1\n",
    "\n",
    "7\\. Make two occupancy plots (one per FPGA), i.e. plot the number of counts per TDC channel\n",
    "\n",
    "8\\. Use the groupby method to find out the noisy channels, i.e. the TDC channels with most counts (say the top 3)\n",
    "\n",
    "9\\. Count the number of unique orbits. Count the number of unique orbits with at least one measurement from TDC_CHANNEL=139"
   ]
  },
  {
   "cell_type": "code",
   "execution_count": null,
   "metadata": {},
   "outputs": [],
   "source": [
    "import pandas as pd\n",
    "import numpy as np\n",
    "import numpy.random as npr\n",
    "#npr.seed(63)"
   ]
  },
  {
   "cell_type": "code",
   "execution_count": null,
   "metadata": {},
   "outputs": [],
   "source": [
    "#1\n",
    "\n",
    "#file_name = \"/home/spiro/home/eminentc/Documents/LaboratoryOfcomputationalPhysics/data/data_000637.txt\"\n",
    "file_name = \"/Users/clara/Documents/LaboratoryOfComputationalPhysics/data/data_000637.txt\"\n",
    "data=pd.read_csv(file_name)\n",
    "n_max = data.shape[0]\n",
    "n_min = 10000"
   ]
  },
  {
   "cell_type": "code",
   "execution_count": null,
   "metadata": {},
   "outputs": [],
   "source": [
    "N = npr.randint(n_min,n_max)\n",
    "print(N)\n",
    "data = data.iloc[:N,]\n",
    "data\n"
   ]
  },
  {
   "cell_type": "code",
   "execution_count": null,
   "metadata": {},
   "outputs": [],
   "source": [
    "import matplotlib.pyplot as plt\n",
    "%matplotlib inline \n",
    "\n",
    "plt.plot(data.loc[4:1000,'BX_COUNTER'])\n",
    "#plt.plot(data.loc[4:1000,'ORBIT_CNT'])"
   ]
  },
  {
   "cell_type": "code",
   "execution_count": null,
   "metadata": {},
   "outputs": [],
   "source": [
    "#2\n",
    "x = data.BX_COUNTER.max()\n",
    "print(\"Period:\",x)"
   ]
  },
  {
   "cell_type": "code",
   "execution_count": null,
   "metadata": {},
   "outputs": [],
   "source": [
    "#3\n",
    "partial_time = (data.ORBIT_CNT.max() - data.ORBIT_CNT.min())*25*x + data.BX_COUNTER.iloc[-1]*25 + data.TDC_MEAS.iloc[-1]*(25/30)\n",
    "print(\"Partial time: %f ns\" %partial_time)\n",
    "print(\"Total time estimated: %f s\" %(partial_time*n_max/(N*10**9)))"
   ]
  },
  {
   "cell_type": "code",
   "execution_count": null,
   "metadata": {},
   "outputs": [],
   "source": [
    "#4\n",
    "t_in = data.ORBIT_CNT.min()\n",
    "data['TIME'] = (data.ORBIT_CNT - t_in)*25*x + data.BX_COUNTER*25 + data.TDC_MEAS*(25/30)\n",
    "#data\n"
   ]
  },
  {
   "cell_type": "code",
   "execution_count": null,
   "metadata": {},
   "outputs": [],
   "source": [
    "%matplotlib inline \n",
    "\n",
    "#plt.plot(data.loc[4:1000,['BX_COUNTER','ORBIT_CNT']])\n",
    "plt.plot(data.loc[4:1000,'TIME'])\n"
   ]
  },
  {
   "cell_type": "code",
   "execution_count": null,
   "metadata": {},
   "outputs": [],
   "source": [
    "#5\n",
    "import numpy.random as npr\n",
    "npr.seed(63)\n",
    "data.loc[:,'HEAD'] = npr.randint(0,2,size=len(data))\n",
    "#data\n"
   ]
  },
  {
   "cell_type": "code",
   "execution_count": null,
   "metadata": {},
   "outputs": [],
   "source": [
    "#6\n",
    "data2=data.copy()\n",
    "data2=data2[data2.HEAD == 1]\n",
    "#data2"
   ]
  },
  {
   "cell_type": "code",
   "execution_count": null,
   "metadata": {},
   "outputs": [],
   "source": [
    "#7 & 8\n",
    "#FPGA1\n",
    "fpga1 = data[data.FPGA == 1].loc[:,['TDC_CHANNEL']]\n",
    "\n",
    "fpga1['COUNTER'] = np.ones(len(fpga1))\n",
    "fpga1_in_order = fpga1.groupby('TDC_CHANNEL').sum()\n",
    "\n",
    "plt.plot(fpga1_in_order.loc[:,'COUNTER'])\n",
    "plt.xlabel('TDC_CHANNEL')\n",
    "plt.ylabel('COUNTS')\n",
    "\n",
    "noisy1 = fpga1_in_order.sort_values('COUNTER')\n",
    "print(noisy1.tail(3))"
   ]
  },
  {
   "cell_type": "code",
   "execution_count": null,
   "metadata": {},
   "outputs": [],
   "source": [
    "#7 & 8\n",
    "#FPGA 0\n",
    "fpga0 = data[data.FPGA == 0].loc[:,['TDC_CHANNEL']]\n",
    "\n",
    "fpga0['COUNTER'] = np.ones(len(fpga0))\n",
    "fpga0_in_order = fpga0.groupby('TDC_CHANNEL').sum()\n",
    "\n",
    "plt.plot(fpga0_in_order.loc[:,'COUNTER'])\n",
    "plt.xlabel('TDC_CHANNEL')\n",
    "plt.ylabel('COUNTS')\n",
    "\n",
    "noisy0 = fpga0_in_order.sort_values('COUNTER')\n",
    "print(noisy0.tail(3))\n"
   ]
  },
  {
   "cell_type": "code",
   "execution_count": null,
   "metadata": {},
   "outputs": [],
   "source": [
    "#9\n",
    "num_orbits = data.ORBIT_CNT.max() - data.ORBIT_CNT.min()\n",
    "print('Number of unique orbits:', num_orbits)"
   ]
  },
  {
   "cell_type": "code",
   "execution_count": null,
   "metadata": {},
   "outputs": [],
   "source": [
    "orbits = data[data.TDC_CHANNEL == 139].loc[:,['ORBIT_CNT']]\n",
    "len(orbits.groupby(\"ORBIT_CNT\"))\n"
   ]
  }
 ],
 "metadata": {
  "kernelspec": {
   "display_name": "Python 3",
   "language": "python",
   "name": "python3"
  },
  "language_info": {
   "codemirror_mode": {
    "name": "ipython",
    "version": 3
   },
   "file_extension": ".py",
   "mimetype": "text/x-python",
   "name": "python",
   "nbconvert_exporter": "python",
   "pygments_lexer": "ipython3",
   "version": "3.7.0"
  }
 },
 "nbformat": 4,
 "nbformat_minor": 2
}
