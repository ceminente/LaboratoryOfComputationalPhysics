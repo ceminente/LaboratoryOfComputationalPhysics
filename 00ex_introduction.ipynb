{
 "cells": [
  {
   "cell_type": "markdown",
   "metadata": {},
   "source": [
    "1. The MickeyMouse problem\n",
    "\n",
    "a) Write a program that prints the numbers from 1 to 100. But for multiples of three print Mickey instead of the number and for the multiples of five print Mouse. For numbers which are multiples of both three and five print MickeyMouse\n",
    "\n",
    "b) Put the result in a tuple and substitute Mickey with Donald and Mouse with Duck"
   ]
  },
  {
   "cell_type": "code",
   "execution_count": 18,
   "metadata": {},
   "outputs": [
    {
     "name": "stdout",
     "output_type": "stream",
     "text": [
      "1\n",
      "2\n",
      "Mickey Mouse\n",
      "4\n",
      "Mouse\n",
      "Mickey Mouse\n",
      "7\n",
      "8\n",
      "Mickey Mouse\n",
      "Mouse\n",
      "11\n",
      "Mickey Mouse\n",
      "13\n",
      "14\n",
      "Mickey Mouse\n",
      "16\n",
      "17\n",
      "Mickey Mouse\n",
      "19\n",
      "Mouse\n",
      "Mickey Mouse\n",
      "22\n",
      "23\n",
      "Mickey Mouse\n",
      "Mouse\n",
      "26\n",
      "Mickey Mouse\n",
      "28\n",
      "29\n",
      "Mickey Mouse\n",
      "31\n",
      "32\n",
      "Mickey Mouse\n",
      "34\n",
      "Mouse\n",
      "Mickey Mouse\n",
      "37\n",
      "38\n",
      "Mickey Mouse\n",
      "Mouse\n",
      "41\n",
      "Mickey Mouse\n",
      "43\n",
      "44\n",
      "Mickey Mouse\n",
      "46\n",
      "47\n",
      "Mickey Mouse\n",
      "49\n",
      "Mouse\n",
      "Mickey Mouse\n",
      "52\n",
      "53\n",
      "Mickey Mouse\n",
      "Mouse\n",
      "56\n",
      "Mickey Mouse\n",
      "58\n",
      "59\n",
      "Mickey Mouse\n",
      "61\n",
      "62\n",
      "Mickey Mouse\n",
      "64\n",
      "Mouse\n",
      "Mickey Mouse\n",
      "67\n",
      "68\n",
      "Mickey Mouse\n",
      "Mouse\n",
      "71\n",
      "Mickey Mouse\n",
      "73\n",
      "74\n",
      "Mickey Mouse\n",
      "76\n",
      "77\n",
      "Mickey Mouse\n",
      "79\n",
      "Mouse\n",
      "Mickey Mouse\n",
      "82\n",
      "83\n",
      "Mickey Mouse\n",
      "Mouse\n",
      "86\n",
      "Mickey Mouse\n",
      "88\n",
      "89\n",
      "Mickey Mouse\n",
      "91\n",
      "92\n",
      "Mickey Mouse\n",
      "94\n",
      "Mouse\n",
      "Mickey Mouse\n",
      "97\n",
      "98\n",
      "Mickey Mouse\n",
      "Mouse\n"
     ]
    }
   ],
   "source": [
    "#1.a\n",
    "\n",
    "for i in range(1,101,1):\n",
    "    if i%3 == 0 & i%5 == 0: print(\"Mickey Mouse\")\n",
    "    elif i%3 == 0: print(\"Mickey\")\n",
    "    elif i%5 == 0: print(\"Mouse\")\n",
    "    else: print(i)"
   ]
  },
  {
   "cell_type": "code",
   "execution_count": 25,
   "metadata": {},
   "outputs": [
    {
     "name": "stdout",
     "output_type": "stream",
     "text": [
      "[1, 2, 'Donald', 4, 'Duck', 'Donald', 7, 8, 'Donald', 'Duck', 11, 'Donald', 13, 14, 'Donald Duck', 16, 17, 'Donald', 19, 'Duck', 'Donald', 22, 23, 'Donald', 'Duck', 26, 'Donald', 28, 29, 'Donald Duck', 31, 32, 'Donald', 34, 'Duck', 'Donald', 37, 38, 'Donald', 'Duck', 41, 'Donald', 43, 44, 'Donald Duck', 46, 47, 'Donald', 49, 'Duck', 'Donald', 52, 53, 'Donald', 'Duck', 56, 'Donald', 58, 59, 'Donald Duck', 61, 62, 'Donald', 64, 'Duck', 'Donald', 67, 68, 'Donald', 'Duck', 71, 'Donald', 73, 74, 'Donald Duck', 76, 77, 'Donald', 79, 'Duck', 'Donald', 82, 83, 'Donald', 'Duck', 86, 'Donald', 88, 89, 'Donald Duck', 91, 92, 'Donald', 94, 'Duck', 'Donald', 97, 98, 'Donald', 'Duck']\n"
     ]
    }
   ],
   "source": [
    "#1.b\n",
    "\n",
    "a = []\n",
    "#rimepie la lista\n",
    "for i in range(1,101,1):\n",
    "    if i%3 == 0 and i%5 == 0: a.append(\"Mickey Mouse\")\n",
    "    elif i%3 == 0: a.append(\"Mickey\")\n",
    "    elif i%5 == 0: a.append(\"Mouse\")\n",
    "    else: a.append(i)\n",
    "\n",
    "#sostituisce\n",
    "for i in range(1,101,1):\n",
    "    if i%3 == 0 and i%5 == 0: a[i-1]=\"Donald Duck\"\n",
    "    elif i%3 == 0:  a[i-1]=\"Donald\"\n",
    "    elif i%5 == 0:  a[i-1]=\"Duck\"\n",
    "print(a)"
   ]
  },
  {
   "cell_type": "markdown",
   "metadata": {},
   "source": [
    "2\\. The swap function\n",
    "\n",
    "Write a function that swap the values of two input variables x and y (whatever the type). Try to do that also without a temporary variable"
   ]
  },
  {
   "cell_type": "code",
   "execution_count": 32,
   "metadata": {
    "scrolled": true
   },
   "outputs": [
    {
     "name": "stdout",
     "output_type": "stream",
     "text": [
      "[1, 2, 3]\n",
      "ciao\n",
      "ciao\n",
      "[1, 2, 3]\n"
     ]
    }
   ],
   "source": [
    "#2 mah...\n",
    "\n",
    "\n",
    "x,y = [1,2,3],\"ciao\"\n",
    "\n",
    "def swap_func(a,b):\n",
    "    return b,a\n",
    "\n",
    "x,y = swap_func(x,y)\n",
    "print(x)\n",
    "print(y)"
   ]
  },
  {
   "cell_type": "markdown",
   "metadata": {},
   "source": [
    "3\\. Computing the distance\n",
    "\n",
    "Write a function that calculates and returns the euclidean distance between two points *u* and *v*, where *u* and *v* are both 2-tuples *(x,y)*. For example, if *u=(3,0)* and *v=(0,4)*, the function should return 5"
   ]
  },
  {
   "cell_type": "code",
   "execution_count": 26,
   "metadata": {},
   "outputs": [
    {
     "data": {
      "text/plain": [
       "1.4142135623730951"
      ]
     },
     "execution_count": 26,
     "metadata": {},
     "output_type": "execute_result"
    }
   ],
   "source": [
    "#3\n",
    "\n",
    "import math\n",
    "\n",
    "def distance(w,z):\n",
    "    try: math.sqrt((w[0]-z[0])*(w[0]-z[0])+(w[1]-z[1])*(w[1]-z[1]))\n",
    "    except: print(\"In order to calculate the distance i need two points. Please, insert the coordinates of each point as a list.\")\n",
    "    return math.sqrt((w[0]-z[0])*(w[0]-z[0])+(w[1]-z[1])*(w[1]-z[1]))\n",
    "\n",
    "#mi da fastidio che pure se da errore la funzione prova comunque a calcolare il risultato dato che except sta prima di return\n",
    "\n",
    "x=[1,1]\n",
    "y=[2,2]\n",
    "\n",
    "distance(x,y)\n"
   ]
  },
  {
   "cell_type": "markdown",
   "metadata": {},
   "source": [
    "4\\. Counting letters\n",
    "\n",
    "Write a program to calculate the number of times each character occurs in a given string *s*. Ignore differneces in capitalization"
   ]
  },
  {
   "cell_type": "code",
   "execution_count": null,
   "metadata": {
    "collapsed": true
   },
   "outputs": [],
   "source": [
    "s=\"Write a program that prints the numbers from 1 to 100. \\\n",
    "But for multiples of three print Mickey instead of the number and for the multiples of five print Mouse. \\\n",
    "For numbers which are multiples of both three and five print MickeyMouse\""
   ]
  },
  {
   "cell_type": "code",
   "execution_count": 25,
   "metadata": {},
   "outputs": [
    {
     "name": "stdout",
     "output_type": "stream",
     "text": [
      "{'w': 2, 'r': 17, 'i': 14, 't': 19, 'e': 22, ' ': 41, 'a': 7, 'p': 8, 'o': 13, 'g': 1, 'm': 12, 'h': 9, 'n': 10, 's': 9, 'u': 9, 'b': 5, 'f': 10, '1': 2, '0': 2, '.': 2, 'l': 6, 'c': 3, 'k': 2, 'y': 2, 'd': 3, 'v': 2}\n"
     ]
    }
   ],
   "source": [
    "#4\n",
    "\n",
    "s=\"Write a program that prints the numbers from 1 to 100. \\\n",
    "But for multiples of three print Mickey instead of the number and for the multiples of five print Mouse. \\\n",
    "For numbers which are multiples of both three and five print MickeyMouse\"\n",
    "\n",
    "s=s.lower()\n",
    "contatore = {} #come si inizializza la variabile a zero???\n",
    "lunghezza=len(s)\n",
    "\n",
    "#ciclo per inizializzare a zero il contatore\n",
    "for i in range(0,lunghezza,1):\n",
    "   contatore[s[i]]=0\n",
    "\n",
    "for i in range(0,lunghezza,1):\n",
    "    contatore[s[i]]=contatore[s[i]]+1\n",
    "print(contatore)\n"
   ]
  },
  {
   "cell_type": "markdown",
   "metadata": {},
   "source": [
    "5\\. Isolating the unique\n",
    "\n",
    "Write a function that determines and count the unique numbers in the list *l*"
   ]
  },
  {
   "cell_type": "code",
   "execution_count": 21,
   "metadata": {},
   "outputs": [
    {
     "name": "stdout",
     "output_type": "stream",
     "text": [
      "1 è unico\n",
      "5 è unico\n",
      "8 è unico\n",
      "9 è unico\n",
      "10 è unico\n",
      "16 è unico\n",
      "18 è unico\n",
      "19 è unico\n",
      "24 è unico\n",
      "30 è unico\n",
      "33 è unico\n",
      "37 è unico\n",
      "39 è unico\n",
      "41 è unico\n",
      "47 è unico\n",
      "53 è unico\n",
      "54 è unico\n",
      "55 è unico\n",
      "57 è unico\n",
      "58 è unico\n",
      "64 è unico\n",
      "72 è unico\n",
      "74 è unico\n",
      "75 è unico\n",
      "79 è unico\n",
      "81 è unico\n",
      "82 è unico\n",
      "86 è unico\n",
      "87 è unico\n",
      "88 è unico\n",
      "90 è unico\n",
      "92 è unico\n",
      "94 è unico\n",
      "95 è unico\n",
      "96 è unico\n",
      "98 è unico\n",
      "99 è unico\n",
      "ci sono 37 numeri unici in questa funzione\n"
     ]
    }
   ],
   "source": [
    "#5\n",
    "\n",
    "\n",
    "l = [36, 45, 58, 3, 74, 96, 64, 45, 31, 10, 24, 19, 33, 86, 99, 18, 63, 70, 85,\n",
    " 85, 63, 47, 56, 42, 70, 84, 88, 55, 20, 54, 8, 56, 51, 79, 81, 57, 37, 91,\n",
    " 1, 84, 84, 36, 66, 9, 89, 50, 42, 91, 50, 95, 90, 98, 39, 16, 82, 31, 92, 41,\n",
    " 45, 30, 66, 70, 34, 85, 94, 5, 3, 36, 72, 91, 84, 34, 87, 75, 53, 51, 20, 89, 51, 20]\n",
    "l.sort()\n",
    "contatore = {} #come si inizializza la variabile a zero???\n",
    "\n",
    "#ciclo per inizializzare a zero il contatore\n",
    "for i in range(0,len(l),1):\n",
    "   contatore[l[i]]=0\n",
    "\n",
    "for i in range(0,len(l),1):\n",
    "    contatore[l[i]]=contatore[l[i]]+1\n",
    "    \n",
    "numero_unici = 0\n",
    "for i in contatore:\n",
    "    if contatore[i]==1: \n",
    "        print(i, \"è unico\")\n",
    "        numero_unici=numero_unici + 1\n",
    "\n",
    "print(\"ci sono %d numeri unici in questa funzione\" %numero_unici)"
   ]
  },
  {
   "cell_type": "markdown",
   "metadata": {},
   "source": [
    "6\\. Combination of functions\n",
    "\n",
    "Write two functions - one that returns the square of a number, and one that returns the cube. Now write a third function that returns the number raised to the 6th power using the two previous functions."
   ]
  },
  {
   "cell_type": "code",
   "execution_count": 28,
   "metadata": {},
   "outputs": [
    {
     "name": "stdout",
     "output_type": "stream",
     "text": [
      "64\n"
     ]
    }
   ],
   "source": [
    "#6 avrei messo il controllo che x sia un numero ma ho sempre \n",
    "#il problema che pure se non lo è viene comunque passato il risultato (che ovviamente da errore)\n",
    "\n",
    "def square(x):\n",
    "    return x*x\n",
    "\n",
    "def cube(x):\n",
    "    return x*x*x\n",
    "\n",
    "def sixth(x):\n",
    "    return cube(square(x))\n",
    "\n",
    "y=2\n",
    "print(sixth(y))"
   ]
  },
  {
   "cell_type": "markdown",
   "metadata": {},
   "source": [
    "7\\. Cubes\n",
    "\n",
    "Create a list of the cubes of x for x in *[0, 10]* using:\n",
    "\n",
    "a) a for loop\n",
    "\n",
    "b) a list comprehension"
   ]
  },
  {
   "cell_type": "code",
   "execution_count": 22,
   "metadata": {},
   "outputs": [
    {
     "name": "stdout",
     "output_type": "stream",
     "text": [
      "[0, 1, 8, 27, 64, 125, 216, 343, 512, 729, 1000]\n"
     ]
    }
   ],
   "source": [
    "#7.a\n",
    "\n",
    "cubes=[]\n",
    "\n",
    "def cube(x):\n",
    "    return(x*x*x)\n",
    "\n",
    "for i in range(11):\n",
    "    cubes.append(cube(i))\n",
    "print(cubes)\n"
   ]
  },
  {
   "cell_type": "code",
   "execution_count": 27,
   "metadata": {},
   "outputs": [
    {
     "name": "stdout",
     "output_type": "stream",
     "text": [
      "[0, 1, 8, 27, 64, 125, 216, 343, 512, 729, 1000]\n"
     ]
    }
   ],
   "source": [
    "#7.b\n",
    "\n",
    "def cube(x):\n",
    "    return(x*x*x)\n",
    "\n",
    "cubes=[cube(x) for x in range(11)]\n",
    "\n",
    "print(cubes)"
   ]
  },
  {
   "cell_type": "markdown",
   "metadata": {},
   "source": [
    "8\\. Nested list comprehension\n",
    "\n",
    "A Pythagorean triple is an integer solution to the Pythagorean theorem $a^2+b^2=c^2$. The first Pythagorean triple is (3,4,5). Find and put in a tuple all unique Pythagorean triples for the positive integers a, b and c less than 100."
   ]
  },
  {
   "cell_type": "code",
   "execution_count": 23,
   "metadata": {},
   "outputs": [
    {
     "name": "stdout",
     "output_type": "stream",
     "text": [
      "[(3, 4, 5), (6, 8, 10), (5, 12, 13), (9, 12, 15), (8, 15, 17), (12, 16, 20), (7, 24, 25), (15, 20, 25), (10, 24, 26), (20, 21, 29), (18, 24, 30), (16, 30, 34), (21, 28, 35), (12, 35, 37), (15, 36, 39), (24, 32, 40), (9, 40, 41), (27, 36, 45), (14, 48, 50), (30, 40, 50), (24, 45, 51), (20, 48, 52), (28, 45, 53), (33, 44, 55), (40, 42, 58), (36, 48, 60), (11, 60, 61), (16, 63, 65), (25, 60, 65), (33, 56, 65), (39, 52, 65), (32, 60, 68), (42, 56, 70), (48, 55, 73), (24, 70, 74), (21, 72, 75), (45, 60, 75), (30, 72, 78), (48, 64, 80), (18, 80, 82), (13, 84, 85), (36, 77, 85), (40, 75, 85), (51, 68, 85), (60, 63, 87), (39, 80, 89), (54, 72, 90), (35, 84, 91), (57, 76, 95), (65, 72, 97)]\n"
     ]
    }
   ],
   "source": [
    "#8 \n",
    "\n",
    "\n",
    "triples=[(a,b,c) for c in range(1,100,1) for a in range(1,100,1) for b in range(a,100,1)  if a*a + b*b == c*c]\n",
    "\n",
    "print(triples)\n"
   ]
  },
  {
   "cell_type": "code",
   "execution_count": 13,
   "metadata": {},
   "outputs": [
    {
     "name": "stdout",
     "output_type": "stream",
     "text": [
      "[[3, 4, 5], [6, 8, 10], [5, 12, 13], [9, 12, 15], [8, 15, 17], [12, 16, 20], [7, 24, 25], [15, 20, 25], [10, 24, 26], [20, 21, 29], [18, 24, 30], [16, 30, 34], [21, 28, 35], [12, 35, 37], [15, 36, 39], [24, 32, 40], [9, 40, 41], [27, 36, 45], [14, 48, 50], [30, 40, 50], [24, 45, 51], [20, 48, 52], [28, 45, 53], [33, 44, 55], [40, 42, 58], [36, 48, 60], [11, 60, 61], [16, 63, 65], [25, 60, 65], [33, 56, 65], [39, 52, 65], [32, 60, 68], [42, 56, 70], [48, 55, 73], [24, 70, 74], [21, 72, 75], [45, 60, 75], [30, 72, 78], [48, 64, 80], [18, 80, 82], [13, 84, 85], [36, 77, 85], [40, 75, 85], [51, 68, 85], [60, 63, 87], [39, 80, 89], [54, 72, 90], [35, 84, 91], [57, 76, 95], [65, 72, 97]]\n"
     ]
    }
   ],
   "source": [
    "#8 altro metodo \n",
    "\n",
    "triples=[]\n",
    "\n",
    "for c in range(1,100,1):\n",
    "    for a in range(1,100,1):\n",
    "        for b in range(a,100,1):\n",
    "            if a*a + b*b == c*c: \n",
    "                found_triple = [a,b,c]\n",
    "                triples.append(found_triple)\n",
    "               \n",
    "print(triples)"
   ]
  },
  {
   "cell_type": "markdown",
   "metadata": {},
   "source": [
    "9\\. Normalization\n",
    "\n",
    "Write a function that takes a tuple of numbers and returns it with the entries normalized to one"
   ]
  },
  {
   "cell_type": "code",
   "execution_count": 25,
   "metadata": {},
   "outputs": [
    {
     "data": {
      "text/plain": [
       "[0.7071067811865475, 0.7071067811865475]"
      ]
     },
     "execution_count": 25,
     "metadata": {},
     "output_type": "execute_result"
    }
   ],
   "source": [
    "#9 stessa storia riguardo il controllo con try-except \n",
    "\n",
    "import math\n",
    "\n",
    "\n",
    "def normalize(x):\n",
    "    module = 0\n",
    "    for i in range(len(x)): module=module + x[i]*x[i]\n",
    "    x = [i/math.sqrt(module) for i in x]\n",
    "    return x     \n",
    "\n",
    "vector=[2,2]\n",
    "normalize(vector)"
   ]
  },
  {
   "cell_type": "code",
   "execution_count": null,
   "metadata": {
    "collapsed": true
   },
   "outputs": [],
   "source": []
  }
 ],
 "metadata": {
  "kernelspec": {
   "display_name": "Python 3",
   "language": "python",
   "name": "python3"
  },
  "language_info": {
   "codemirror_mode": {
    "name": "ipython",
    "version": 3
   },
   "file_extension": ".py",
   "mimetype": "text/x-python",
   "name": "python",
   "nbconvert_exporter": "python",
   "pygments_lexer": "ipython3",
   "version": "3.6.3"
  }
 },
 "nbformat": 4,
 "nbformat_minor": 2
}
